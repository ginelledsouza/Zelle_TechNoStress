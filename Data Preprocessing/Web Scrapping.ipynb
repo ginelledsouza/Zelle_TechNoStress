{
 "cells": [
  {
   "cell_type": "markdown",
   "metadata": {},
   "source": [
    "-------------------------------------------------------------------------------------------------------------------------------"
   ]
  },
  {
   "cell_type": "markdown",
   "metadata": {},
   "source": [
    "# Web Scrapping - Pricebaba"
   ]
  },
  {
   "cell_type": "markdown",
   "metadata": {},
   "source": [
    "The following script is used to scrape the data from [Pricebaba](https://pricebaba.com/). The main data that we wish to scrape are tablet phones, mobile phones, and laptops. These will create the base of our predictive model that will be attached to our website Zelle"
   ]
  },
  {
   "cell_type": "code",
   "execution_count": null,
   "metadata": {},
   "outputs": [],
   "source": [
    "from bs4 import BeautifulSoup\n",
    "import requests\n",
    "import pandas as pd\n",
    "\n",
    "OutputPath = \"C:/Users/ginel/OneDrive/Desktop/\""
   ]
  },
  {
   "cell_type": "markdown",
   "metadata": {},
   "source": [
    "# Tablets"
   ]
  },
  {
   "cell_type": "code",
   "execution_count": null,
   "metadata": {},
   "outputs": [],
   "source": [
    "url = 'https://pricebaba.com/tablet/brands'\n",
    "r = requests.get(url)\n",
    "s = BeautifulSoup(r.content, 'html.parser')"
   ]
  },
  {
   "cell_type": "code",
   "execution_count": null,
   "metadata": {},
   "outputs": [],
   "source": [
    "tablet = s.find_all('a',{'class':'txt-al-c'})\n",
    "tablet = [pt['href'] for pt in tablet]\n",
    "tablet_url = []\n",
    "\n",
    "for i in tablet:\n",
    "    urls = str(\"https://pricebaba.com\") + str(i)\n",
    "    tablet_url.append(urls)\n",
    "\n",
    "tablet_details = []\n",
    "\n",
    "for i in tablet_url:\n",
    "    r = requests.get(i)\n",
    "    s = BeautifulSoup(r.content, 'html.parser')\n",
    "\n",
    "    tablet = s.find_all('span',{'class':'productSKULink target_link'})\n",
    "    tablet = [pt['data-href'] for pt in tablet]\n",
    "    \n",
    "    tablet_details.append(tablet)"
   ]
  },
  {
   "cell_type": "code",
   "execution_count": null,
   "metadata": {},
   "outputs": [],
   "source": [
    "tablet_details = [item for sublist in tablet_details for item in sublist]"
   ]
  },
  {
   "cell_type": "code",
   "execution_count": null,
   "metadata": {},
   "outputs": [],
   "source": [
    "tablet_details = list(dict.fromkeys(tablet_details))\n",
    "Tablet = pd.DataFrame()\n",
    "print(len(tablet_details))"
   ]
  },
  {
   "cell_type": "code",
   "execution_count": null,
   "metadata": {},
   "outputs": [],
   "source": [
    "for i in tablet_details:\n",
    "    \n",
    "    r = requests.get(i)\n",
    "    s = BeautifulSoup(r.content, 'html.parser')\n",
    "    \n",
    "    ModelName = s.find_all('h1',{'class':'txt-wt-b txt-xl'})\n",
    "    ModelName = [pt.get_text().strip() for pt in ModelName]\n",
    "    \n",
    "    Price = s.find_all('div',{'class':'txt-xl txt-wt-b txt-clr-light-black lowestPrice pb-tbl-center--ends'})\n",
    "    Price = [pt.get_text().strip() for pt in Price]\n",
    "    \n",
    "    Ratings = s.find_all('div',{'class':'m-v-xs txt-clr-grey txt-underline p-l-s'})\n",
    "    Ratings = [pt.get_text().replace(\"\\xa0\",\" \").split(\" & \")[0].replace(\" Ratings\",\"\").replace(\",\",'') for pt in Ratings]\n",
    "\n",
    "    Stars = s.find('div',{'class':'cui-rating'})\n",
    "    \n",
    "    Image = s.find_all('div',{'class':'gllry__itm--tbl-cll'})\n",
    "    try:\n",
    "        Image = Image[0].find_all('img')\n",
    "        Image = [pt['data-src'] for pt in Image]\n",
    "    except:\n",
    "        Image = []\n",
    "\n",
    "    try:\n",
    "        Stars = [pt.get_text() for pt in Stars]\n",
    "    except:\n",
    "        Stars = []\n",
    "    \n",
    "    specification = s.find_all('ul',{'class':'quick-spec ul-list'})\n",
    "   \n",
    "    try:\n",
    "        list_specification = [pt.find_all('span') for pt in specification[0]]\n",
    "    except:\n",
    "        list_specification = []\n",
    "        \n",
    "    list_specification = [item for sublist in list_specification for item in sublist]\n",
    "    list_specification = [pt.get_text().strip() for pt in list_specification]\n",
    "\n",
    "    Screen = []\n",
    "    RAM = []\n",
    "    ROM = []\n",
    "    Battery = []\n",
    "\n",
    "    for text in list_specification:\n",
    "        if 'Screen' in text:\n",
    "            Screen.append(text)\n",
    "        elif 'RAM' in text:\n",
    "            RAM.append(text)\n",
    "        elif 'Storage' in text:\n",
    "            ROM.append(text)\n",
    "        elif 'mAh' in text:\n",
    "            Battery.append(text)\n",
    "        else:\n",
    "            pass\n",
    "    \n",
    "    Specification = [\", \".join(list_specification)]\n",
    "    \n",
    "    print(ModelName,Price,Ratings,Stars,RAM,ROM,Screen,Battery)\n",
    "    \n",
    "    TabletDetails = pd.DataFrame({\n",
    "        \"Tablet Name\": pd.Series(ModelName),\n",
    "        \"RAM GB\": pd.Series(RAM),\n",
    "        \"ROM GB\": pd.Series(ROM),\n",
    "        \"Screen\": pd.Series(Screen),\n",
    "        \"Battery\": pd.Series(Battery),\n",
    "        \"Specification\": pd.Series(Specification),\n",
    "        \"Price\": pd.Series(Price),\n",
    "        \"Image\": pd.Series(Image),\n",
    "        \"Link\": pd.Series([i])\n",
    "        })\n",
    "    \n",
    "    Tablet = Tablet.append(TabletDetails,ignore_index=True)"
   ]
  },
  {
   "cell_type": "code",
   "execution_count": null,
   "metadata": {},
   "outputs": [],
   "source": [
    "print(\"Before Duplication: {}\".format(Tablet.shape))\n",
    "\n",
    "Tablet.drop_duplicates('Tablet Name',inplace=True)\n",
    "\n",
    "print(\"Aftetr Dupication: {}\".format(Tablet.shape))"
   ]
  },
  {
   "cell_type": "code",
   "execution_count": null,
   "metadata": {},
   "outputs": [],
   "source": [
    "Tablet.head()"
   ]
  },
  {
   "cell_type": "code",
   "execution_count": null,
   "metadata": {},
   "outputs": [],
   "source": [
    "Output = OutputPath + str(\"TabletPhone.xlsx\")\n",
    "Tablet.to_excel(Output,index=False)"
   ]
  },
  {
   "cell_type": "markdown",
   "metadata": {},
   "source": [
    "## Moblie Phone"
   ]
  },
  {
   "cell_type": "code",
   "execution_count": null,
   "metadata": {},
   "outputs": [],
   "source": [
    "url = 'https://pricebaba.com/mobile/brands'\n",
    "r = requests.get(url)\n",
    "s = BeautifulSoup(r.content, 'html.parser')"
   ]
  },
  {
   "cell_type": "code",
   "execution_count": null,
   "metadata": {},
   "outputs": [],
   "source": [
    "phones = s.find_all('a',{'class':'txt-al-c'})\n",
    "phones = [pt['href'] for pt in phones]\n",
    "phones_url = []\n",
    "\n",
    "for i in phones:\n",
    "    urls = str(\"https://pricebaba.com\") + str(i)\n",
    "    phones_url.append(urls)\n",
    "\n",
    "phones_details = []\n",
    "\n",
    "for i in phones_url:\n",
    "    r = requests.get(i)\n",
    "    s = BeautifulSoup(r.content, 'html.parser')\n",
    "\n",
    "    phones = s.find_all('span',{'class':'productSKULink target_link'})\n",
    "    phones = [pt['data-href'] for pt in phones]\n",
    "    \n",
    "    phones_details.append(phones)"
   ]
  },
  {
   "cell_type": "code",
   "execution_count": null,
   "metadata": {},
   "outputs": [],
   "source": [
    "phones_details = [item for sublist in phones_details for item in sublist]"
   ]
  },
  {
   "cell_type": "code",
   "execution_count": null,
   "metadata": {},
   "outputs": [],
   "source": [
    "phones_details = list(dict.fromkeys(phones_details))\n",
    "Phone = pd.DataFrame()\n",
    "print(len(phones_details))"
   ]
  },
  {
   "cell_type": "code",
   "execution_count": null,
   "metadata": {},
   "outputs": [],
   "source": [
    "for i in phones_details:\n",
    "    r = requests.get(i)\n",
    "    s = BeautifulSoup(r.content, 'html.parser')\n",
    "    \n",
    "    ModelName = s.find_all('h1',{'class':'txt-wt-b txt-xl'})\n",
    "    ModelName = [pt.get_text().strip() for pt in ModelName]\n",
    "    \n",
    "    Price = s.find_all('div',{'class':'txt-xl txt-wt-b txt-clr-light-black lowestPrice pb-tbl-center--ends'})\n",
    "    Price = [pt.get_text().strip() for pt in Price]\n",
    "    \n",
    "    Ratings = s.find_all('div',{'class':'m-v-xs txt-clr-grey txt-underline p-l-s'})\n",
    "    Ratings = [pt.get_text().replace(\"\\xa0\",\" \").split(\" & \")[0].replace(\" Ratings\",\"\").replace(\",\",'') for pt in Ratings]\n",
    "\n",
    "    Stars = s.find('div',{'class':'cui-rating'})\n",
    "    \n",
    "    Image = s.find_all('div',{'class':'gllry__itm--tbl-cll'})\n",
    "    Image = Image[0].find_all('img')\n",
    "    Image = [pt['data-src'] for pt in Image]\n",
    "    \n",
    "    try:\n",
    "        Stars = [pt.get_text() for pt in Stars]\n",
    "    except:\n",
    "        Stars = []\n",
    "    \n",
    "    Screen = s.find_all('ul',{'class':'keyspec p-h-l m-b-l'})\n",
    "    \n",
    "    try:\n",
    "        specification = Screen[0].find_all('ul')\n",
    "    except:\n",
    "        specification = []\n",
    "        \n",
    "    list_specification = [pt.find_all('li') for pt in specification]\n",
    "    list_specification = [item for sublist in list_specification for item in sublist]\n",
    "    list_specification = [pt.get_text().strip() for pt in list_specification]\n",
    "\n",
    "    Android = []\n",
    "    RAM = []\n",
    "    ROM = []\n",
    "    Battery = []\n",
    "\n",
    "    for text in list_specification:\n",
    "        if (('Android' in text) | ('iOS' in text) | ('Blackberry' in text) | ('Windows' in text)):\n",
    "            Android.append(text)\n",
    "        elif 'RAM' in text:\n",
    "            RAM.append(text)\n",
    "        elif 'internal storage' in text:\n",
    "            ROM.append(text)\n",
    "        elif 'battery' in text:\n",
    "            Battery.append(text)\n",
    "        else:\n",
    "            pass\n",
    "    \n",
    "    Specification = \", \".join(list_specification)  \n",
    "    \n",
    "    print(ModelName,Price,Ratings,Stars,Android,RAM,ROM,Battery)\n",
    "    \n",
    "    PhonesDetails = pd.DataFrame({\n",
    "        \"Phones Name\": pd.Series(ModelName),\n",
    "        \"Ratings\": pd.Series(Ratings),\n",
    "        \"Stars\": pd.Series(Stars),\n",
    "        \"OS\": pd.Series(Android),\n",
    "        \"RAM\": pd.Series(RAM),\n",
    "        \"ROM\": pd.Series(ROM),\n",
    "        \"Battery\": pd.Series(Battery),\n",
    "        \"Specifications\": pd.Series(Specification),\n",
    "        \"Price\": pd.Series(Price),\n",
    "        \"Image\": pd.Series(Image),\n",
    "        \"Link\": pd.Series([i])\n",
    "        })\n",
    "    \n",
    "    Phone = Phone.append(PhonesDetails,ignore_index=True)"
   ]
  },
  {
   "cell_type": "code",
   "execution_count": null,
   "metadata": {},
   "outputs": [],
   "source": [
    "print(\"Before Duplication: {}\".format(Phone.shape))\n",
    "\n",
    "Phone.drop_duplicates('Phones Name',inplace=True)\n",
    "\n",
    "print(\"Aftetr Dupication: {}\".format(Phone.shape))"
   ]
  },
  {
   "cell_type": "code",
   "execution_count": null,
   "metadata": {},
   "outputs": [],
   "source": [
    "Phone.head()"
   ]
  },
  {
   "cell_type": "code",
   "execution_count": null,
   "metadata": {},
   "outputs": [],
   "source": [
    "Output = OutputPath + str(\"MobilePhone.xlsx\")\n",
    "Phone.to_excel(Output,index=False)"
   ]
  },
  {
   "cell_type": "markdown",
   "metadata": {},
   "source": [
    "## Laptops"
   ]
  },
  {
   "cell_type": "code",
   "execution_count": null,
   "metadata": {},
   "outputs": [],
   "source": [
    "url = 'https://pricebaba.com/laptop/brands'\n",
    "r = requests.get(url)\n",
    "s = BeautifulSoup(r.content, 'html.parser')"
   ]
  },
  {
   "cell_type": "code",
   "execution_count": null,
   "metadata": {},
   "outputs": [],
   "source": [
    "laptops = s.find_all('a',{'class':'txt-al-c'})\n",
    "laptops = [pt['href'] for pt in laptops]\n",
    "laptops_url = []\n",
    "\n",
    "for i in laptops:\n",
    "    urls = str(\"https://pricebaba.com\") + str(i)\n",
    "    laptops_url.append(urls)\n",
    "\n",
    "laptops_details = []\n",
    "\n",
    "\n",
    "for i in laptops_url:\n",
    "    r = requests.get(i)\n",
    "    s = BeautifulSoup(r.content, 'html.parser')\n",
    "\n",
    "    laptops = s.find_all('span',{'class':'productSKULink target_link'})\n",
    "    laptops = [pt['data-href'] for pt in laptops]\n",
    "    \n",
    "    laptops_details.append(laptops)"
   ]
  },
  {
   "cell_type": "code",
   "execution_count": null,
   "metadata": {},
   "outputs": [],
   "source": [
    "laptops_details = [item for sublist in laptops_details for item in sublist]"
   ]
  },
  {
   "cell_type": "code",
   "execution_count": null,
   "metadata": {},
   "outputs": [],
   "source": [
    "laptops_details = list(dict.fromkeys(laptops_details))\n",
    "laptops = pd.DataFrame()\n",
    "print(len(laptops_details))"
   ]
  },
  {
   "cell_type": "code",
   "execution_count": null,
   "metadata": {},
   "outputs": [],
   "source": [
    "for i in laptops_details:\n",
    "    r = requests.get(i)\n",
    "    s = BeautifulSoup(r.content, 'html.parser')\n",
    "    \n",
    "    ModelName = s.find_all('h1',{'class':'txt-wt-b txt-xl'})\n",
    "    ModelName = [pt.get_text().strip() for pt in ModelName]\n",
    "    \n",
    "    Price = s.find_all('div',{'class':'txt-xl txt-wt-b txt-clr-light-black lowestPrice pb-tbl-center--ends'})\n",
    "    Price = [pt.get_text().strip() for pt in Price]\n",
    "    \n",
    "    Ratings = s.find_all('div',{'class':'m-v-xs txt-clr-grey txt-underline p-l-s'})\n",
    "    Ratings = [pt.get_text().replace(\"\\xa0\",\" \").split(\" & \")[0].replace(\" Ratings\",\"\").replace(\",\",'') for pt in Ratings]\n",
    "\n",
    "    Stars = s.find('div',{'class':'cui-rating'})\n",
    "    \n",
    "    Image = s.find_all('div',{'class':'gllry__itm--tbl-cll'})\n",
    "    Image = Image[0].find_all('img')\n",
    "    Image = [pt['data-src'] for pt in Image]\n",
    "    \n",
    "    try:\n",
    "        Stars = [pt.get_text() for pt in Stars]\n",
    "    except:\n",
    "        Stars = []\n",
    "    \n",
    "    Screen = s.find_all('ul',{'class':'keyspec p-h-l m-b-l'})\n",
    "    \n",
    "    try:\n",
    "        specification = Screen[0].find_all('ul')\n",
    "    except:\n",
    "        specification = []\n",
    "        \n",
    "    list_specification = [pt.find_all('li') for pt in specification]\n",
    "    list_specification = [item for sublist in list_specification for item in sublist]\n",
    "    list_specification = [pt.get_text().strip() for pt in list_specification]\n",
    "\n",
    "    OS = []\n",
    "    RAM = []\n",
    "    ROM = []\n",
    "    Battery = []\n",
    "    Processor = []\n",
    "    Webcam = []\n",
    "\n",
    "    for text in list_specification:\n",
    "        if (('Windows' in text) | ('macOS' in text)):\n",
    "            OS.append(text)\n",
    "        elif 'RAM' in text:\n",
    "            RAM.append(text)\n",
    "        elif (('HDD' in text) | ('SSD' in text)):\n",
    "            ROM.append(text)\n",
    "        elif 'Hrs' in text:\n",
    "            Battery.append(text)\n",
    "        elif 'Intel' in text:\n",
    "            Processor.append(text)\n",
    "        elif 'Webcam' in text:\n",
    "            Webcam.append(text)\n",
    "        else:\n",
    "            pass\n",
    "    \n",
    "    Specification = \", \".join(list_specification)  \n",
    "    \n",
    "    print(ModelName,Price,Ratings,Stars,OS,RAM,ROM,Battery)\n",
    "    \n",
    "    laptopsDetails = pd.DataFrame({\n",
    "        \"Laptop Name\": pd.Series(ModelName),\n",
    "        \"Ratings\": pd.Series(Ratings),\n",
    "        \"Stars\": pd.Series(Stars),\n",
    "        \"OS\": pd.Series(OS),\n",
    "        \"RAM\": pd.Series(RAM),\n",
    "        \"ROM\": pd.Series(ROM),\n",
    "        \"Battery\": pd.Series(Battery),\n",
    "        \"Processor\": pd.Series(Processor),\n",
    "        \"Webcam\": pd.Series(Webcam),\n",
    "        \"Specifications\": pd.Series(Specification),\n",
    "        \"Price\": pd.Series(Price),\n",
    "        \"Image\": pd.Series(Image),\n",
    "        \"Link\": pd.Series([i])\n",
    "        })\n",
    "    \n",
    "    laptops = laptops.append(laptopsDetails,ignore_index=True)"
   ]
  },
  {
   "cell_type": "code",
   "execution_count": null,
   "metadata": {},
   "outputs": [],
   "source": [
    "print(\"Before Duplication: {}\".format(laptops.shape))\n",
    "\n",
    "laptops.drop_duplicates('Laptop Name',inplace=True)\n",
    "\n",
    "print(\"Aftetr Dupication: {}\".format(laptops.shape))"
   ]
  },
  {
   "cell_type": "code",
   "execution_count": null,
   "metadata": {},
   "outputs": [],
   "source": [
    "laptops.head()"
   ]
  },
  {
   "cell_type": "code",
   "execution_count": null,
   "metadata": {},
   "outputs": [],
   "source": [
    "Output = OutputPath + str(\"Laptops.xlsx\")\n",
    "laptops.to_excel(Output,index=False)"
   ]
  },
  {
   "cell_type": "markdown",
   "metadata": {},
   "source": [
    "-------------------------------------------------------------------------------------------------------------------------------"
   ]
  }
 ],
 "metadata": {
  "kernelspec": {
   "display_name": "Python 3",
   "language": "python",
   "name": "python3"
  },
  "language_info": {
   "codemirror_mode": {
    "name": "ipython",
    "version": 3
   },
   "file_extension": ".py",
   "mimetype": "text/x-python",
   "name": "python",
   "nbconvert_exporter": "python",
   "pygments_lexer": "ipython3",
   "version": "3.8.5"
  }
 },
 "nbformat": 4,
 "nbformat_minor": 2
}
